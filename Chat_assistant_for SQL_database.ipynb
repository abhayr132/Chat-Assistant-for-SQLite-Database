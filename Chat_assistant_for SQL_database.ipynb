{
 "cells": [
  {
   "cell_type": "markdown",
   "id": "f43fe3cf-3674-4b89-a943-905d396d8e77",
   "metadata": {},
   "source": [
    "# Create the SQLite Database"
   ]
  },
  {
   "cell_type": "code",
   "execution_count": 23,
   "id": "8909f502-878c-4b6b-a7fd-a74dee89f1eb",
   "metadata": {},
   "outputs": [
    {
     "data": {
      "text/plain": [
       "<sqlite3.Cursor at 0x109f2dc40>"
      ]
     },
     "execution_count": 23,
     "metadata": {},
     "output_type": "execute_result"
    }
   ],
   "source": [
    "import sqlite3\n",
    "\n",
    "# Create a new SQLite database \n",
    "conn = sqlite3.connect('company.db')\n",
    "cursor = conn.cursor()\n",
    "\n",
    "# Create Employees table\n",
    "cursor.execute('''\n",
    "    CREATE TABLE IF NOT EXISTS Employees (\n",
    "        ID INTEGER PRIMARY KEY,\n",
    "        Name TEXT NOT NULL,\n",
    "        Department TEXT NOT NULL,\n",
    "        Salary INTEGER NOT NULL,\n",
    "        Hire_Date TEXT NOT NULL\n",
    "    )\n",
    "''')\n",
    "\n",
    "# Create Departments table\n",
    "cursor.execute('''\n",
    "    CREATE TABLE IF NOT EXISTS Departments (\n",
    "        ID INTEGER PRIMARY KEY,\n",
    "        Name TEXT NOT NULL,\n",
    "        Manager TEXT NOT NULL\n",
    "    )\n",
    "''')\n"
   ]
  },
  {
   "cell_type": "code",
   "execution_count": 24,
   "id": "44ad9b7b-0379-4b84-a1e7-a2ae4764f77c",
   "metadata": {},
   "outputs": [
    {
     "data": {
      "text/plain": [
       "<sqlite3.Cursor at 0x109f2dc40>"
      ]
     },
     "execution_count": 24,
     "metadata": {},
     "output_type": "execute_result"
    }
   ],
   "source": [
    "# Insert  data into Employees table\n",
    "cursor.executemany('''\n",
    "    INSERT INTO Employees (ID, Name, Department, Salary, Hire_Date)\n",
    "    VALUES (?, ?, ?, ?, ?)\n",
    "''', [\n",
    "    (1, 'Alice', 'Sales', 50000, '2021-01-15'),\n",
    "    (2, 'Bob', 'Engineering', 70000, '2020-06-10'),\n",
    "    (3, 'Charlie', 'Marketing', 60000, '2022-03-20')\n",
    "])\n"
   ]
  },
  {
   "cell_type": "code",
   "execution_count": 25,
   "id": "53285b69-ffce-4517-b57c-9804ef147145",
   "metadata": {},
   "outputs": [
    {
     "data": {
      "text/plain": [
       "<sqlite3.Cursor at 0x109f2dc40>"
      ]
     },
     "execution_count": 25,
     "metadata": {},
     "output_type": "execute_result"
    }
   ],
   "source": [
    "# Insert data into Departments table\n",
    "cursor.executemany('''\n",
    "    INSERT INTO Departments (ID, Name, Manager)\n",
    "    VALUES (?, ?, ?)\n",
    "''', [\n",
    "    (1, 'Sales', 'Alice'),\n",
    "    (2, 'Engineering', 'Bob'),\n",
    "    (3, 'Marketing', 'Charlie')\n",
    "])"
   ]
  },
  {
   "cell_type": "code",
   "execution_count": 26,
   "id": "14e065a8-fdaf-4171-92f1-5f925f26664e",
   "metadata": {
    "scrolled": true
   },
   "outputs": [],
   "source": [
    "# Commit changes and close the connection\n",
    "conn.commit()\n",
    "conn.close()"
   ]
  },
  {
   "cell_type": "markdown",
   "id": "5b06b773-d1fb-49a2-b7ef-1b356e6eab7c",
   "metadata": {},
   "source": [
    "# Implement Chat assistant "
   ]
  },
  {
   "cell_type": "code",
   "execution_count": 27,
   "id": "e95fee16-fefd-4335-a989-2dc811f020fa",
   "metadata": {},
   "outputs": [],
   "source": [
    "import sqlite3\n",
    "import re\n",
    "from datetime import datetime"
   ]
  },
  {
   "cell_type": "code",
   "execution_count": 28,
   "id": "d264a5dd-fb07-4a36-851d-c06a00275c9a",
   "metadata": {},
   "outputs": [],
   "source": [
    "# Connect to SQLite database\n",
    "def get_db_connection():\n",
    "    conn = sqlite3.connect('company.db')\n",
    "    return conn"
   ]
  },
  {
   "cell_type": "code",
   "execution_count": 30,
   "id": "4ffcde07-4bda-4315-8809-5b51346cbb18",
   "metadata": {},
   "outputs": [
    {
     "name": "stdout",
     "output_type": "stream",
     "text": [
      "Hello! I am your chat assistant. How can I help you today?\n"
     ]
    },
    {
     "name": "stdin",
     "output_type": "stream",
     "text": [
      "You:  \"Show me all employees in the Marketing department.\"\n"
     ]
    },
    {
     "name": "stdout",
     "output_type": "stream",
     "text": [
      "Assistant: Sorry, I didn't understand that query. Could you please rephrase?\n"
     ]
    },
    {
     "name": "stdin",
     "output_type": "stream",
     "text": [
      "You:  Show me all employees in the Marketing department.\n"
     ]
    },
    {
     "name": "stdout",
     "output_type": "stream",
     "text": [
      "Assistant: ID | Name | Department | Salary | Hire Date\n",
      "--------------------------------------------------\n",
      "3 | Charlie | Marketing | $60000 | 2022-03-20\n",
      "\n"
     ]
    },
    {
     "name": "stdin",
     "output_type": "stream",
     "text": [
      "You:  Who is the manager of the Sales department?\n"
     ]
    },
    {
     "name": "stdout",
     "output_type": "stream",
     "text": [
      "Assistant: The manager of the Sales department is Alice.\n"
     ]
    },
    {
     "name": "stdin",
     "output_type": "stream",
     "text": [
      "You:  List all employees hired after 2021-01-01\n"
     ]
    },
    {
     "name": "stdout",
     "output_type": "stream",
     "text": [
      "Assistant: ID | Name | Department | Salary | Hire Date\n",
      "--------------------------------------------------\n",
      "1 | Alice | Sales | $50000 | 2021-01-15\n",
      "3 | Charlie | Marketing | $60000 | 2022-03-20\n",
      "\n"
     ]
    },
    {
     "name": "stdin",
     "output_type": "stream",
     "text": [
      "You:  What is the total salary expense for the marketing department\n"
     ]
    },
    {
     "name": "stdout",
     "output_type": "stream",
     "text": [
      "Assistant: The total salary expense for the Marketing department is $60000.\n"
     ]
    },
    {
     "name": "stdin",
     "output_type": "stream",
     "text": [
      "You:  What is the total salary expense for the Engineering department?\n"
     ]
    },
    {
     "name": "stdout",
     "output_type": "stream",
     "text": [
      "Assistant: The total salary expense for the Engineering department is $70000.\n"
     ]
    },
    {
     "name": "stdin",
     "output_type": "stream",
     "text": [
      "You:  exit\n"
     ]
    },
    {
     "name": "stdout",
     "output_type": "stream",
     "text": [
      "Goodbye!\n"
     ]
    }
   ],
   "source": [
    "# Handle user queries\n",
    "def handle_query(query):\n",
    "    conn = get_db_connection()\n",
    "    cursor = conn.cursor()\n",
    "\n",
    "    # Query 1: Show all employees in a department\n",
    "    match = re.match(r\"show me all employees in the (.+) department\", query, re.I)\n",
    "    if match:\n",
    "        department = match.group(1).capitalize()\n",
    "        cursor.execute(\"SELECT * FROM Employees WHERE Department=?\", (department,))\n",
    "        employees = cursor.fetchall()\n",
    "        if employees:\n",
    "            return format_employees(employees)\n",
    "        else:\n",
    "            return f\"No employees found in the {department} department.\"\n",
    "\n",
    "    # Query 2: Who is the manager of a department?\n",
    "    match = re.match(r\"who is the manager of the (.+) department\", query, re.I)\n",
    "    if match:\n",
    "        department = match.group(1).capitalize()\n",
    "        cursor.execute(\"SELECT Manager FROM Departments WHERE Name=?\", (department,))\n",
    "        manager = cursor.fetchone()\n",
    "        if manager:\n",
    "            return f\"The manager of the {department} department is {manager[0]}.\"\n",
    "        else:\n",
    "            return f\"No department named {department} found.\"\n",
    "\n",
    "    # Query 3: List employees hired after a specific date\n",
    "    match = re.match(r\"list all employees hired after (.+)\", query, re.I)\n",
    "    if match:\n",
    "        try:\n",
    "            hire_date = datetime.strptime(match.group(1), \"%Y-%m-%d\")\n",
    "            cursor.execute(\"SELECT * FROM Employees WHERE Hire_Date > ?\", (hire_date.strftime('%Y-%m-%d'),))\n",
    "            employees = cursor.fetchall()\n",
    "            if employees:\n",
    "                return format_employees(employees)\n",
    "            else:\n",
    "                return \"No employees found hired after that date.\"\n",
    "        except ValueError:\n",
    "            return \"Please enter the date in the format YYYY-MM-DD.\"\n",
    "\n",
    "    # Query 4: Total salary expense for a department\n",
    "    match = re.match(r\"what is the total salary expense for the (.+) department\", query, re.I)\n",
    "    if match:\n",
    "        department = match.group(1).capitalize()\n",
    "        cursor.execute(\"SELECT SUM(Salary) FROM Employees WHERE Department=?\", (department,))\n",
    "        total_salary = cursor.fetchone()[0]\n",
    "        if total_salary is not None:\n",
    "            return f\"The total salary expense for the {department} department is ${total_salary}.\"\n",
    "        else:\n",
    "            return f\"No employees found in the {department} department.\"\n",
    "\n",
    "    # If no pattern matches\n",
    "    return \"Sorry, I didn't understand that query. Could you please rephrase?\"\n",
    "\n",
    "# Format employees for easy readability\n",
    "def format_employees(employees):\n",
    "    formatted = \"ID | Name | Department | Salary | Hire Date\\n\"\n",
    "    formatted += \"-\" * 50 + \"\\n\"\n",
    "    for emp in employees:\n",
    "        formatted += f\"{emp[0]} | {emp[1]} | {emp[2]} | ${emp[3]} | {emp[4]}\\n\"\n",
    "    return formatted\n",
    "\n",
    "# Main chat loop\n",
    "def chat():\n",
    "    print(\"Hello! I am your chat assistant. How can I help you today?\")\n",
    "    while True:\n",
    "        query = input(\"You: \")\n",
    "        if query.lower() in ['exit', 'quit', 'bye']:\n",
    "            print(\"Goodbye!\")\n",
    "            break\n",
    "        response = handle_query(query)\n",
    "        print(\"Assistant: \" + response)\n",
    "\n",
    "# Run the chat assistant\n",
    "if __name__ == '__main__':\n",
    "    chat()"
   ]
  },
  {
   "cell_type": "code",
   "execution_count": null,
   "id": "37a6ddb0-f829-4043-97ec-da62401bed79",
   "metadata": {},
   "outputs": [],
   "source": []
  }
 ],
 "metadata": {
  "kernelspec": {
   "display_name": "Python 3 (ipykernel)",
   "language": "python",
   "name": "python3"
  },
  "language_info": {
   "codemirror_mode": {
    "name": "ipython",
    "version": 3
   },
   "file_extension": ".py",
   "mimetype": "text/x-python",
   "name": "python",
   "nbconvert_exporter": "python",
   "pygments_lexer": "ipython3",
   "version": "3.12.7"
  }
 },
 "nbformat": 4,
 "nbformat_minor": 5
}
